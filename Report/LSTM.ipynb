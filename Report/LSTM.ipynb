{
 "cells": [
  {
   "cell_type": "code",
   "execution_count": null,
   "metadata": {},
   "outputs": [],
   "source": [
    "%pip install tensorflow==2.9.1\n",
    "\n",
    "from tensorflow.keras.models import Sequential\n",
    "from tensorflow.keras.layers import LSTM, Dense, Dropout\n",
    "\n",
    "# Define LSTM model\n",
    "def create_lstm_model(input_shape, num_classes):\n",
    "    model = Sequential()\n",
    "    model.add(LSTM(128, input_shape=input_shape, return_sequences=True))\n",
    "    model.add(Dropout(0.2))\n",
    "    model.add(LSTM(128))\n",
    "    model.add(Dropout(0.2))\n",
    "    model.add(Dense(num_classes, activation='softmax'))\n",
    "    return model\n",
    "\n",
    "# Create and compile the model\n",
    "lstm_model = create_lstm_model((X_train.shape[1], X_train.shape[2]), y_train.shape[1])\n",
    "lstm_model.compile(optimizer='adam', loss='categorical_crossentropy', metrics=['accuracy'])\n",
    "\n",
    "start_LSTM_train_time = time.time()\n",
    "\n",
    "# Train the model\n",
    "lstm_model.fit(X_train, y_train, epochs=300, batch_size=batch_size, validation_data=(X_val, y_val))\n",
    "\n",
    "end_LSTM_train_time = time.time()\n",
    "\n",
    "# Evaluate the model\n",
    "\n",
    "start_LSTM_test_time = time.time()\n",
    "loss, accuracy = lstm_model.evaluate(X_test, y_test, batch_size=batch_size)\n",
    "end_LSTM_test_time = time.time()\n",
    "print(f\"Test Accuracy: {accuracy:.4f}\")\n",
    "print(f'time taken to train LSTM model: {end_LSTM_train_time - start_LSTM_train_time}')\n",
    "print(f'time taken to test LSTM model: {end_LSTM_test_time - start_LSTM_test_time}')"
   ]
  }
 ],
 "metadata": {
  "language_info": {
   "name": "python"
  }
 },
 "nbformat": 4,
 "nbformat_minor": 2
}
